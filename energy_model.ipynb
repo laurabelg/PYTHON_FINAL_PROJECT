
import pandas as pd
import numpy as np
import statsmodels.api as sm

energy = pd.read_csv("Final Project/owid-energy-data.csv")
energy.info()


